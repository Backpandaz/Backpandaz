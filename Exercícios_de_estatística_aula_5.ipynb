{
  "cells": [
    {
      "cell_type": "markdown",
      "metadata": {
        "id": "view-in-github",
        "colab_type": "text"
      },
      "source": [
        "<a href=\"https://colab.research.google.com/github/Backpandaz/Backpandaz/blob/main/Exerc%C3%ADcios_de_estat%C3%ADstica_aula_5.ipynb\" target=\"_parent\"><img src=\"https://colab.research.google.com/assets/colab-badge.svg\" alt=\"Open In Colab\"/></a>"
      ]
    },
    {
      "cell_type": "code",
      "execution_count": null,
      "metadata": {
        "colab": {
          "base_uri": "https://localhost:8080/"
        },
        "id": "CHI6eyaa_Eu8",
        "outputId": "276b9674-2db9-4799-c19e-3f183f7aa081"
      },
      "outputs": [
        {
          "output_type": "stream",
          "name": "stdout",
          "text": [
            "A média é: 17.97\n",
            "A mediana é: 17.50\n"
          ]
        }
      ],
      "source": [
        "# Exercício 1\n",
        "\n",
        "import pandas as pd\n",
        "Gr = pd.read_csv(\"https://drive.google.com/u/1/uc?id=182_Z-bL7n9itkupECYhIOEGuIjfQbF0Z&export=download\")\n",
        "\n",
        "Média = Gr[\"temperatura\"].mean()\n",
        "Mediana = Gr[\"temperatura\"].median()\n",
        "\n",
        "print(\"A média é: \" \"%.2f\" % Média)\n",
        "print(\"A mediana é: \" \"%.2f\" % Mediana)\n",
        "\n",
        "\n",
        "\n",
        "\n"
      ]
    },
    {
      "cell_type": "code",
      "execution_count": null,
      "metadata": {
        "colab": {
          "base_uri": "https://localhost:8080/"
        },
        "id": "faa3xQFyIzUL",
        "outputId": "d8112a3b-801c-475f-e90f-de17acf006d4"
      },
      "outputs": [
        {
          "output_type": "stream",
          "name": "stdout",
          "text": [
            "O percentile vinte e cinco é: 15.0\n",
            "O percentile cinquenta e cinco  é: 18.0\n",
            "O percentile setenta e cinco  é: 20.0\n"
          ]
        }
      ],
      "source": [
        "# Exercício 2\n",
        "import pandas as pd\n",
        "import numpy as np\n",
        "vinteecinco = np.percentile(Gr[\"temperatura\"], q = 25)\n",
        "cinquentaecinco = np.percentile(Gr[\"temperatura\"], q= 55)\n",
        "setentaecinco = np.percentile(Gr[\"temperatura\"], q = 75)\n",
        "\n",
        "print(\"O percentile vinte e cinco é: \" \"%.1f\" % vinteecinco)\n",
        "print(\"O percentile cinquenta e cinco  é: \" \"%.1f\" %  cinquentaecinco)\n",
        "print(\"O percentile setenta e cinco  é: \" \"%.1f\" %  setentaecinco)"
      ]
    },
    {
      "cell_type": "code",
      "execution_count": null,
      "metadata": {
        "colab": {
          "base_uri": "https://localhost:8080/"
        },
        "id": "oxpj_fXcp67w",
        "outputId": "492b0891-6b31-4ef3-f26b-7204c0023d38"
      },
      "outputs": [
        {
          "output_type": "execute_result",
          "data": {
            "text/plain": [
              "0    15\n",
              "1    17\n",
              "dtype: int64"
            ]
          },
          "metadata": {},
          "execution_count": 2
        }
      ],
      "source": [
        "# Exercício 3 \n",
        "Gr_filtrada = Gr.sort_values(\"temperatura\", ascending = False)\n",
        "Moda = Gr[\"temperatura\"].mode()\n",
        "Moda\n"
      ]
    },
    {
      "cell_type": "code",
      "execution_count": null,
      "metadata": {
        "colab": {
          "base_uri": "https://localhost:8080/"
        },
        "id": "IQr7DVmXrUzD",
        "outputId": "d333dafc-4990-42d3-8e3b-02f6b0b8c05b"
      },
      "outputs": [
        {
          "output_type": "stream",
          "name": "stdout",
          "text": [
            "O valor da menor moda é:  15\n"
          ]
        }
      ],
      "source": [
        "# Exercício 4\n",
        "Gr_filtrada = Gr.sort_values(\"temperatura\", ascending = False)\n",
        "Moda = Gr[\"temperatura\"].mode()\n",
        "Modamin = Moda.min()\n",
        "print(\"O valor da menor moda é: \",Modamin)"
      ]
    },
    {
      "cell_type": "code",
      "source": [],
      "metadata": {
        "id": "tEJiigC1Rq0x"
      },
      "execution_count": null,
      "outputs": []
    },
    {
      "cell_type": "code",
      "execution_count": null,
      "metadata": {
        "id": "ngsElt1Ws7J3",
        "colab": {
          "base_uri": "https://localhost:8080/"
        },
        "outputId": "db7ff152-c31d-417f-dcc0-615d6011458b"
      },
      "outputs": [
        {
          "output_type": "stream",
          "name": "stdout",
          "text": [
            "Digite uma das opções válidas (periodo ou temperatura): a\n",
            "Digite uma das opções válidas (periodo ou temperatura): a\n",
            "Digite uma das opções válidas (periodo ou temperatura): a\n",
            "Digite uma das opções válidas (periodo ou temperatura): periodo\n",
            "    periodo\n",
            "0         1\n",
            "1         2\n",
            "2         3\n",
            "3         4\n",
            "4         5\n",
            "5         6\n",
            "6         7\n",
            "7         8\n",
            "8         9\n",
            "9        10\n",
            "10       11\n",
            "11       12\n",
            "12       13\n",
            "13       14\n",
            "14       15\n",
            "15       16\n",
            "16       17\n",
            "17       18\n",
            "18       19\n",
            "19       20\n",
            "20       21\n",
            "21       22\n",
            "22       23\n",
            "23       24\n",
            "24       25\n",
            "25       26\n",
            "26       27\n",
            "27       28\n",
            "28       29\n",
            "29       30\n"
          ]
        }
      ],
      "source": [
        "#  Exercício 5 \n",
        "\n",
        " #Gráfico filtrado\n",
        "Gr[[\"temperatura\"]].mode()\n",
        "Gr[[\"periodo\"]].mode()\n",
        "\n",
        "#variaveis\n",
        "a = \"temperatura\"\n",
        "b = \"periodo\"\n",
        "\n",
        "# Loop\n",
        "while True:\n",
        "  pergunta = input(\"Digite uma das opções válidas (periodo ou temperatura): \")\n",
        "  if pergunta == a:\n",
        "    print(Gr[[\"temperatura\"]].mode())\n",
        "    break\n",
        "  elif pergunta == b:\n",
        "    print(Gr[[\"periodo\"]].mode())\n",
        "    break\n",
        "\n",
        "\n",
        "\n",
        "    \n",
        "\n",
        "\n",
        "\n",
        "      \n",
        "    \n",
        "\n",
        "  "
      ]
    },
    {
      "cell_type": "code",
      "execution_count": null,
      "metadata": {
        "colab": {
          "base_uri": "https://localhost:8080/"
        },
        "id": "Q7nK2-pF5vyi",
        "outputId": "273a9bce-c2e9-4d46-e347-399845df5c15"
      },
      "outputs": [
        {
          "name": "stdout",
          "output_type": "stream",
          "text": [
            "A(s) moda(s) da(s) temperatura(s) acima de 16 graus são: \n",
            "0    17\n",
            "dtype: int64\n"
          ]
        }
      ],
      "source": [
        "# Exercício 6\n",
        "Gr_filtrada = Gr.query(\"temperatura > 16\")\n",
        "print(\"A(s) moda(s) da(s) temperatura(s) acima de 16 graus são: \")\n",
        "print(Gr_filtrada[\"temperatura\"].mode())"
      ]
    },
    {
      "cell_type": "code",
      "execution_count": null,
      "metadata": {
        "colab": {
          "base_uri": "https://localhost:8080/"
        },
        "id": "n1zWFWt27hB6",
        "outputId": "4071e9cd-3e7e-4dcb-9a5e-94fc567de439"
      },
      "outputs": [
        {
          "name": "stdout",
          "output_type": "stream",
          "text": [
            "O mínimo é :  12\n",
            "O máximo é:  26\n",
            "A amplitude é:  14\n",
            "A variância é:  13.620\n",
            "O desvio é:  3.690\n"
          ]
        }
      ],
      "source": [
        "# Exercício 7\n",
        "\n",
        "\n",
        "Mínimo = Gr[\"temperatura\"].min()\n",
        "Máximo = Gr[\"temperatura\"].max()\n",
        "Amplitude = Gr[\"temperatura\"].max() - Gr[\"temperatura\"].min()\n",
        "Variância = Gr[\"temperatura\"].var()\n",
        "Desvio = Gr[\"temperatura\"].std()\n",
        "\n",
        "print(\"O mínimo é : \", Mínimo)\n",
        "print(\"O máximo é: \", Máximo)\n",
        "print(\"A amplitude é: \", Amplitude)\n",
        "print(\"A variância é: \", \"%.3f\" % Variância)\n",
        "print(\"O desvio é: \", \"%.3f\" % Desvio)\n"
      ]
    },
    {
      "cell_type": "code",
      "execution_count": null,
      "metadata": {
        "id": "gF-FwKP3_WDo"
      },
      "outputs": [],
      "source": [
        "# Exercicio 8\n",
        "Gr[\"razao\"] = Gr[\"temperatura\"]/Gr[\"periodo\"]\n",
        "print(Gr)\n",
        "print(Gr[\"razao\"].var())"
      ]
    },
    {
      "cell_type": "code",
      "execution_count": null,
      "metadata": {
        "colab": {
          "base_uri": "https://localhost:8080/",
          "height": 318
        },
        "id": "1pUANvBnEIkN",
        "outputId": "50b4a72e-3ca5-4dc9-af98-fb3d87461cbf"
      },
      "outputs": [
        {
          "data": {
            "text/plain": [
              "array([[<matplotlib.axes._subplots.AxesSubplot object at 0x7fae3eac6910>]],\n",
              "      dtype=object)"
            ]
          },
          "execution_count": 98,
          "metadata": {},
          "output_type": "execute_result"
        },
        {
          "data": {
            "image/png": "[encoded data removed]",
            "text/plain": [
              "<Figure size 432x288 with 1 Axes>"
            ]
          },
          "metadata": {},
          "output_type": "display_data"
        }
      ],
      "source": [
        "# Exercicio 9 (a)\n",
        "Gr.hist(column = \"temperatura\", bins = 3)\n"
      ]
    },
    {
      "cell_type": "code",
      "execution_count": null,
      "metadata": {
        "colab": {
          "base_uri": "https://localhost:8080/",
          "height": 283
        },
        "id": "rcTy-yRp5stw",
        "outputId": "bb393f2b-76e3-4fb5-d4f3-2352ad67324f"
      },
      "outputs": [
        {
          "data": {
            "text/plain": [
              "<matplotlib.axes._subplots.AxesSubplot at 0x7fae3e5c2110>"
            ]
          },
          "execution_count": 99,
          "metadata": {},
          "output_type": "execute_result"
        },
        {
          "data": {
            "image/png": "[encoded data removed]",
            "text/plain": [
              "<Figure size 432x288 with 1 Axes>"
            ]
          },
          "metadata": {},
          "output_type": "display_data"
        }
      ],
      "source": [
        "# Exercicio 9 (b)\n",
        "Gr.boxplot(column=\"temperatura\")"
      ]
    },
    {
      "cell_type": "code",
      "execution_count": null,
      "metadata": {
        "colab": {
          "base_uri": "https://localhost:8080/"
        },
        "id": "iWOm0owf6Kop",
        "outputId": "95a34aee-c372-4072-c516-a90fd24b741c"
      },
      "outputs": [
        {
          "name": "stdout",
          "output_type": "stream",
          "text": [
            "0.48\n"
          ]
        }
      ],
      "source": [
        "# Exercicio 10\n",
        "import pandas as pd\n",
        "Gr = pd.read_csv(\"https://www.dropbox.com/s/6qwgc2dgyat96qd/fertilidade.csv?dl=1\", sep = \";\")\n",
        "Gr_filtrada = Gr.query(\"Contraceptivos < 30\")\n",
        "Var = Gr_filtrada[\"Fertilidade\"].var()\n",
        "\n",
        "print(\"%.2f\" % Var)\n"
      ]
    },
    {
      "cell_type": "code",
      "execution_count": null,
      "metadata": {
        "colab": {
          "base_uri": "https://localhost:8080/"
        },
        "id": "5MGSUCFyl0lJ",
        "outputId": "4223c8de-65a1-41a2-c27c-88c3c44c2710"
      },
      "outputs": [
        {
          "output_type": "stream",
          "name": "stdout",
          "text": [
            "Coloque aqui o nome do pais desejado: Albania\n",
            "Albania\n",
            "0.7327041493333333\n"
          ]
        }
      ],
      "source": [
        "# Exercicio 11\n",
        "Gr = pd.read_csv(\"https://www.dropbox.com/s/c598s62iq668cz4/Chapter2OnlineData-9.csv?dl=1\",decimal = \",\")\n",
        "país = input(\"Coloque aqui o nome do pais desejado: \")\n",
        "Gr_filtrada = Gr.query(\"Country == '\"+país+\"' and Year < 2017\")\n",
        "print(país)\n",
        "print(Gr_filtrada[\"Social support\"].mean())\n"
      ]
    }
  ],
  "metadata": {
    "colab": {
      "provenance": [],
      "authorship_tag": "ABX9TyNhja6r1kEgIaHv+hzDA7oA",
      "include_colab_link": true
    },
    "kernelspec": {
      "display_name": "Python 3",
      "name": "python3"
    },
    "language_info": {
      "name": "python"
    }
  },
  "nbformat": 4,
  "nbformat_minor": 0
}