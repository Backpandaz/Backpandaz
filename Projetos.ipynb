{
  "nbformat": 4,
  "nbformat_minor": 0,
  "metadata": {
    "colab": {
      "provenance": [],
      "authorship_tag": "ABX9TyMOK/8JAvB+dlnaXuUTr+eZ",
      "include_colab_link": true
    },
    "kernelspec": {
      "name": "python3",
      "display_name": "Python 3"
    },
    "language_info": {
      "name": "python"
    }
  },
  "cells": [
    {
      "cell_type": "markdown",
      "metadata": {
        "id": "view-in-github",
        "colab_type": "text"
      },
      "source": [
        "<a href=\"https://colab.research.google.com/github/Backpandaz/Backpandaz/blob/main/Projetos.ipynb\" target=\"_parent\"><img src=\"https://colab.research.google.com/assets/colab-badge.svg\" alt=\"Open In Colab\"/></a>"
      ]
    },
    {
      "cell_type": "markdown",
      "source": [
        "\n",
        "\n",
        "```\n",
        "Código que lê os pedidos de uma pessoa em um supermercado e devolve uma lista para ela com os itens selecionados e o valor total das compras.\n",
        "```\n",
        "\n"
      ],
      "metadata": {
        "id": "gh8wQDOhZZyZ"
      }
    },
    {
      "cell_type": "code",
      "source": [
        "def pedidos():\n",
        "  #valor inicial para a soma\n",
        "  valor_final = 0\n",
        "\n",
        "  # aviso de como encerrar o pedido\n",
        "  print(\"Digite a letra 'n' quando quiser encerrar o pedido\")\n",
        "\n",
        "  # input para a pergunta\n",
        "  pergunta = str(input(\"O que você gostaria de pedir? \"))\n",
        "\n",
        "\n",
        "  # valor de cada produto\n",
        "  if pergunta == \"uva\":\n",
        "      valor_final +=2\n",
        "      \n",
        "  if pergunta == \"suco\":\n",
        "      valor_final += 5\n",
        "      \n",
        "  if pergunta == \"arroz\":\n",
        "      valor_final +=4.40\n",
        "      \n",
        "\n",
        "  if pergunta == \"carne\":\n",
        "      valor_final +=5.50\n",
        "    \n",
        "\n",
        "  #Laço\n",
        "  while pergunta != \"n\":\n",
        "    pergunta = str(input(\"O que você gostaria de pedir? \"))\n",
        "  \n",
        "    if pergunta == \"uva\":\n",
        "        valor_final +=2\n",
        "        \n",
        "    if pergunta == \"suco\":\n",
        "        valor_final += 5\n",
        "        \n",
        "\n",
        "    if pergunta == \"arroz\":\n",
        "        valor_final +=4.40\n",
        "        \n",
        "\n",
        "    if pergunta == \"carne\":\n",
        "        valor_final +=5.50\n",
        "      \n",
        "  #prints finais\n",
        "  print(\"\\033[32m Pedido encerrado\")\n",
        "  print(\"\\033[33m O valor final da sua compra é --> {}\".format(\"%.2f\" % valor_final),\"reais\", end = '')\n",
        "\n",
        "#chamado da função\n",
        "pedidos()"
      ],
      "metadata": {
        "colab": {
          "base_uri": "https://localhost:8080/"
        },
        "id": "7Uvj6MUL0KUf",
        "outputId": "2a0bcce6-0bfd-4e2c-e408-03dd5c28200d"
      },
      "execution_count": 61,
      "outputs": [
        {
          "output_type": "stream",
          "name": "stdout",
          "text": [
            "Digite a letra 'n' quando quiser encerrar o pedido\n",
            "O que você gostaria de pedir? uva\n",
            "O que você gostaria de pedir? suco\n",
            "O que você gostaria de pedir? carne\n",
            "O que você gostaria de pedir? n\n",
            "\u001b[32m Pedido encerrado\n",
            "\u001b[33m O valor final da sua compra é --> 12.50 reais"
          ]
        }
      ]
    }
  ]
}