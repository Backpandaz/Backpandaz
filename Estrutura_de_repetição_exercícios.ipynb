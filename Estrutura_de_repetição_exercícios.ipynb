{
  "nbformat": 4,
  "nbformat_minor": 0,
  "metadata": {
    "colab": {
      "provenance": [],
      "authorship_tag": "ABX9TyMa2m0DhsoJF9SXdUgp4O87",
      "include_colab_link": true
    },
    "kernelspec": {
      "name": "python3",
      "display_name": "Python 3"
    },
    "language_info": {
      "name": "python"
    }
  },
  "cells": [
    {
      "cell_type": "markdown",
      "metadata": {
        "id": "view-in-github",
        "colab_type": "text"
      },
      "source": [
        "<a href=\"https://colab.research.google.com/github/Backpandaz/Backpandaz/blob/main/Estrutura_de_repeti%C3%A7%C3%A3o_exerc%C3%ADcios.ipynb\" target=\"_parent\"><img src=\"https://colab.research.google.com/assets/colab-badge.svg\" alt=\"Open In Colab\"/></a>"
      ]
    },
    {
      "cell_type": "markdown",
      "source": [
        "# **https://wiki.python.org.br/EstruturaDeRepeticao**\n",
        "\n"
      ],
      "metadata": {
        "id": "XPTkB8_8ERNK"
      }
    },
    {
      "cell_type": "markdown",
      "source": [
        "\n",
        "# **1. Faça um programa que peça uma nota, entre zero e dez. Mostre uma mensagem caso o valor seja inválido e continue pedindo até que o usuário informe um valor válido**\n",
        "\n",
        "\n"
      ],
      "metadata": {
        "id": "3vxycfA0A5GI"
      }
    },
    {
      "cell_type": "code",
      "source": [
        "nota = int(input(\"digite um dos valores válidos: \"))\n",
        "\n",
        "while nota > float(10):\n",
        "  nota = float(input(\"Digite um valor que esteja no intervalo de 0 e 10: \"))\n",
        " \n",
        "if nota <= float(10):\n",
        "    nota = print(\"Valor válido \")   "
      ],
      "metadata": {
        "id": "2lU5Mw_rA9Ih",
        "colab": {
          "base_uri": "https://localhost:8080/"
        },
        "outputId": "7f15ca32-cb98-431a-e693-cede66fb1e13"
      },
      "execution_count": null,
      "outputs": [
        {
          "output_type": "stream",
          "name": "stdout",
          "text": [
            "digite um dos valores válidos: 11\n",
            "Digite um valor que esteja no intervalo de 0 e 10: 11\n",
            "Digite um valor que esteja no intervalo de 0 e 10: 10\n",
            "Valor válido \n"
          ]
        }
      ]
    },
    {
      "cell_type": "markdown",
      "source": [
        "# **2. Faça um programa que leia um nome de usuário e a sua senha e não aceite a senha igual ao nome do usuário, mostrando uma mensagem de erro e voltando a pedir as informações.** \n"
      ],
      "metadata": {
        "id": "D6jgRQXFliRq"
      }
    },
    {
      "cell_type": "code",
      "source": [
        "nome = str(input(\"Digite o seu nome, por favor: \")).upper()\n",
        "senha = input(\"Digite uma senha: \").upper()\n",
        "\n",
        "while nome == senha:\n",
        "  senha = input(\"A senha não pode ser igual ao nome usuário, por favor, digite outra: \").upper()\n",
        "\n",
        "if nome != senha:\n",
        "  print(\"Senha válida \")\n",
        "\n",
        "  "
      ],
      "metadata": {
        "id": "4YvBW-tmleex",
        "colab": {
          "base_uri": "https://localhost:8080/"
        },
        "outputId": "342e92e6-4fcb-4833-fc89-117879886972"
      },
      "execution_count": null,
      "outputs": [
        {
          "output_type": "stream",
          "name": "stdout",
          "text": [
            "Digite o seu nome, por favor: gabriel\n",
            "Digite uma senha: gabriel\n",
            "A senha não pode ser igual ao nome usuário, por favor, digite outra: gabriel\n",
            "A senha não pode ser igual ao nome usuário, por favor, digite outra: gabriel\n",
            "A senha não pode ser igual ao nome usuário, por favor, digite outra: 1234\n",
            "Senha válida \n"
          ]
        }
      ]
    },
    {
      "cell_type": "markdown",
      "source": [
        "#  **3. Faça um programa que leia e valide as seguintes informações:**\n",
        "\n",
        "\n",
        "*   Nome: maior que 3 caracteres\n",
        "*   Idade: entre 0 e 150\n",
        "*   Salário: maior que zero\n",
        "*   Sexo: 'f' ou 'm'\n",
        "*   Estado Civil: 's', 'c', 'v', 'd'\n",
        "\n",
        "\n",
        "\n",
        "\n"
      ],
      "metadata": {
        "id": "W5m5-Uo6Ul8O"
      }
    },
    {
      "cell_type": "code",
      "source": [
        "# input para o nome\n",
        "nome = str(input(\"Digite o seu nome: \"))\n",
        "\n",
        "\n",
        "# contagem de caracteres\n",
        "contagem = len(nome)\n",
        "\n",
        "\n",
        "while contagem <= 3:\n",
        "  nome_2 = input(\"digite um nome com mais de três caracteres \")\n",
        "  contagem = len(nome_2)\n",
        "if contagem > 3:\n",
        "  print(\"O nome é válido\")\n",
        "\n",
        "\n",
        "# input para o salário\n",
        "salario = float(input(\"Digite o seu salário:\"))\n",
        "\n",
        "while salario <= 0:\n",
        "  salario = float(input(\"Digite um valor de salário válido (> 0) \"))\n",
        "if salario > 0:\n",
        "  print(\"O valor do sálario é válido \")\n",
        "\n",
        "\n",
        "# variaveis e inputs para f e m\n",
        "f = \"f\"\n",
        "m = \"m\"\n",
        "sexo = str(input(\"Digite qual é o seu sexo(f ou m) \"))\n",
        "\n",
        "while sexo != f and sexo != m:\n",
        "  sexo = str(input(\"Digite uma das opções válidas para o sexo (f ou m)\"))\n",
        "\n",
        "if sexo == f:\n",
        "  print(\"O sexo é válido \")\n",
        "\n",
        "elif sexo == m:\n",
        "  print(\"O sexo é válido\")\n",
        "\n",
        "\n",
        "# variaveis e input para estado civil\n",
        "s = \"s\"\n",
        "c = \"c\"\n",
        "v = \"v\"\n",
        "d = \"d\"\n",
        "estado_civil = str(input(\"Digite qual é o seu estado cívil: \"))\n",
        "\n",
        "while estado_civil != s and estado_civil != c and estado_civil != v and estado_civil != d:\n",
        "  estado_civil = str(input(\"Digite um estado civil válido: \"))\n",
        "\n",
        "if estado_civil == s and estado_civil == c and estado_civil == v  and estado_civil == d:\n",
        "  print(\"Estado civil válido \")\n",
        "\n",
        "elif estado_civil == c:\n",
        "  print(\"Estado civil válido \")\n",
        "\n",
        "elif estado_civil == v: \n",
        "  print(\"Estado civil válido \")\n",
        "\n",
        "elif estado_civil == d:\n",
        "  print(\"Estado civil válido \")\n",
        "\n",
        "\n",
        "print(f'Com base nas informações dadas, seu nome é {nome},',f'seu salário é {salario},',f'seu sexo é {sexo}', f'e seu estado civil é {estado_civil}.')\n"
      ],
      "metadata": {
        "id": "NjAlTF_jUhVw",
        "colab": {
          "base_uri": "https://localhost:8080/"
        },
        "outputId": "981a67c9-6a60-40e1-ff8d-7a1532a46ea6"
      },
      "execution_count": null,
      "outputs": [
        {
          "output_type": "stream",
          "name": "stdout",
          "text": [
            "Digite o seu nome: Gabriel\n",
            "O nome é válido\n",
            "Digite o seu salário:1200\n",
            "O valor do sálario é válido \n",
            "Digite qual é o seu sexo(f ou m) k\n",
            "Digite uma das opções válidas para o sexo (f ou m)l\n",
            "Digite uma das opções válidas para o sexo (f ou m)f\n",
            "O sexo é válido \n",
            "Digite qual é o seu estado cívil: solteiro\n",
            "Digite um estado civil válido: s\n",
            "Com base nas informações dadas, seu nome é Gabriel, seu salário é 1200.0, seu sexo é f e seu estado civil é s.\n"
          ]
        }
      ]
    },
    {
      "cell_type": "markdown",
      "source": [
        "# **4. Supondo que a população de um país A seja da ordem de 80000 habitantes com uma taxa anual de crescimento de 3% e que a população de B seja 200000 habitantes com uma taxa de crescimento de 1.5%. Faça um programa que calcule e escreva o número de anos necessários para que a população do país A ultrapasse ou iguale a população do país B, mantidas as taxas de crescimento**"
      ],
      "metadata": {
        "id": "gQvhR1-vEQz4"
      }
    },
    {
      "cell_type": "code",
      "source": [
        "A = 80000\n",
        "B = 200000\n",
        "cont = 0\n",
        "\n",
        "while A <= B:\n",
        "  A += A*3/100\n",
        "  B += B*1.5/100\n",
        "  cont += 1\n",
        "  \n",
        "print(\"A população A ultrapassa a população B em\",cont,\"anos\")\n",
        "\n",
        "\n",
        "\n",
        " \n",
        "  \n"
      ],
      "metadata": {
        "id": "EwWYPACyEl4q",
        "colab": {
          "base_uri": "https://localhost:8080/"
        },
        "outputId": "3771502d-1c85-4ec6-8371-1df7c29b69a3"
      },
      "execution_count": null,
      "outputs": [
        {
          "output_type": "stream",
          "name": "stdout",
          "text": [
            "A população A ultrapassa a população B em 63 anos\n"
          ]
        }
      ]
    },
    {
      "cell_type": "markdown",
      "source": [
        "# **5. Altere o programa anterior permitindo ao usuário informar as populações e as taxas de crescimento iniciais. Valide a entrada e permita repetir a operação.**"
      ],
      "metadata": {
        "id": "WxOCBc6WMugQ"
      }
    },
    {
      "cell_type": "code",
      "source": [
        "# inputs\n",
        "A = str(input(\"Digite o valor da população A: \")).replace(',','.')\n",
        "B = str(input(\"Digite o valor da população B: \")).replace(',','.')\n",
        "p1 = str(input(\"Digite o valor da primeira porcentagem: \")).replace(',','.')\n",
        "p2 = str(input(\"Digite o valor da segunda porcentagem: \")).replace(',','.')\n",
        "\n",
        "\n",
        "# Transformações de string em float para os valores da população\n",
        "valor_A = float(A)*1\n",
        "valor_B = float(B)*1\n",
        "\n",
        "# laço para validar os valores\n",
        "while valor_A >= valor_B and valor_B <= valor_A:\n",
        "  valor_A = int(input(\"Digite um valor válido para A \")).replace(',','.')\n",
        "  valor_B = int(input(\"Digite um valor válido para B \")).replace(',','.')\n",
        "\n",
        "  if p1 <= p2 and p2 >= p1:\n",
        "    pi = str(input(\"Digite um valor válido para p1 \")).replace(',','.')\n",
        "    p2 = str(input(\"Digite um valor válido para p2 \")).replace(',','.')\n",
        "\n",
        "# Transformação de string para float das porcentagens\n",
        "float(p1)\n",
        "float(p2)\n",
        "contap1 = float(p1)*1\n",
        "contap2 = float(p2)*1\n",
        "ano = 0\n",
        "\n",
        "# Laço de soma da população\n",
        "while valor_A <= valor_B and p1 > p2:\n",
        "  valor_A += valor_A*contap1/100\n",
        "  valor_B += valor_B*contap2/100\n",
        "  ano += 1\n",
        " \n",
        "\n",
        "resposta = print(\"A população A ultrapassa a população B em\",ano,\"ano(s)\")"
      ],
      "metadata": {
        "id": "XNUUoV5kNMv4"
      },
      "execution_count": null,
      "outputs": []
    },
    {
      "cell_type": "markdown",
      "source": [
        "# **6. Faça um programa que imprima na tela os números de 1 a 20, um abaixo do outro. Depois modifique o programa para que ele mostre os números um ao lado do outro.**"
      ],
      "metadata": {
        "id": "sG5AXYk_Twaz"
      }
    },
    {
      "cell_type": "code",
      "source": [
        "# Função para a linha\n",
        "def linha():\n",
        "  traco = \"___\"*30\n",
        "  print(traco)\n",
        "\n",
        "zero = int(input(\"Digite o valor 0: \"))\n",
        "vinteeum = int(input(\"Digite o valor 20: \"))\n",
        "\n",
        "\n",
        "# Sequência na vertical\n",
        "for i in range(zero, vinteeum + 1):\n",
        "  print(i)\n",
        "\n",
        "linha()\n",
        "\n",
        "# Sequência na horizontal\n",
        "for i in range(zero, vinteeum + 1):\n",
        "  print(i,end= '  ')\n",
        "\n",
        "\n",
        "\n",
        "\n"
      ],
      "metadata": {
        "id": "QNo7PoudUUWQ"
      },
      "execution_count": null,
      "outputs": []
    },
    {
      "cell_type": "markdown",
      "source": [
        "# **7. Faça um programa que leia 5 números e informe o maior número.** "
      ],
      "metadata": {
        "id": "ZWCjCO9XZ7a8"
      }
    },
    {
      "cell_type": "code",
      "source": [
        "a = float(input(\"Digite um número: \"))\n",
        "b = float(input(\"Digite um número: \"))\n",
        "c = float(input(\"Digite um número: \"))\n",
        "d = float(input(\"Digite um número: \"))\n",
        "e = float(input(\"Digite um número: \"))\n",
        "\n",
        "lista = [a,b,c,d,e]\n",
        "max(lista)\n",
        "\n",
        "\n",
        "\n",
        "\n",
        "\n",
        "\n"
      ],
      "metadata": {
        "id": "pHEeIx_IaJDY",
        "colab": {
          "base_uri": "https://localhost:8080/"
        },
        "outputId": "fc59e9ca-6ce6-4ff1-8861-95e051063b0b"
      },
      "execution_count": null,
      "outputs": [
        {
          "name": "stdout",
          "output_type": "stream",
          "text": [
            "Digite um número: 50\n",
            "Digite um número: 10\n",
            "Digite um número: 25\n",
            "Digite um número: 30\n",
            "Digite um número: 40\n"
          ]
        },
        {
          "output_type": "execute_result",
          "data": {
            "text/plain": [
              "50.0"
            ]
          },
          "metadata": {},
          "execution_count": 1
        }
      ]
    },
    {
      "cell_type": "markdown",
      "source": [
        "# **8.Faça um programa que leia 5 números e informe a soma e a média dos números**"
      ],
      "metadata": {
        "id": "qesBFuPZGT3W"
      }
    },
    {
      "cell_type": "code",
      "source": [
        "import numpy as np\n",
        "\n",
        "# input\n",
        "a = float(input(\"Digite um número: \"))\n",
        "b = float(input(\"Digite um número: \"))\n",
        "c = float(input(\"Digite um número: \"))\n",
        "d = float(input(\"Digite um número: \"))\n",
        "e = float(input(\"Digite um número: \"))\n",
        "\n",
        "# Listas para soma e média\n",
        "lista = [a,b,c,d,e]\n",
        "soma = sum(lista)\n",
        "média = np.mean(lista)\n",
        "\n",
        "print(soma)\n",
        "print(média)\n",
        "\n",
        "\n"
      ],
      "metadata": {
        "id": "WKezfv_zGck_"
      },
      "execution_count": null,
      "outputs": []
    },
    {
      "cell_type": "markdown",
      "source": [
        "# **9.Faça um programa que imprima na tela apenas os números ímpares entre 1 e 50**"
      ],
      "metadata": {
        "id": "Mo61vq8QkisV"
      }
    },
    {
      "cell_type": "code",
      "source": [
        "for i in range(1,51,2):\n",
        "  print(i, end = ' ')"
      ],
      "metadata": {
        "colab": {
          "base_uri": "https://localhost:8080/"
        },
        "id": "wgYN7chgktlI",
        "outputId": "594a0fde-61ad-4bab-cb5f-1355aac3216e"
      },
      "execution_count": null,
      "outputs": [
        {
          "output_type": "stream",
          "name": "stdout",
          "text": [
            "1 3 5 7 9 11 13 15 17 19 21 23 25 27 29 31 33 35 37 39 41 43 45 47 49 "
          ]
        }
      ]
    },
    {
      "cell_type": "markdown",
      "source": [
        "# **10.Faça um programa que receba dois números inteiros e gere os números inteiros que estão no intervalo compreendido por eles**"
      ],
      "metadata": {
        "id": "up7_W_awm5E7"
      }
    },
    {
      "cell_type": "code",
      "source": [
        "# Sem solução \n",
        "\n",
        "\n"
      ],
      "metadata": {
        "id": "n1acXIjUnJC5"
      },
      "execution_count": null,
      "outputs": []
    },
    {
      "cell_type": "markdown",
      "source": [
        "# **12 Desenvolva um gerador de tabuada, capaz de gerar a tabuada de qualquer número inteiro entre 1 a 10. O usuário deve informar de qual numero ele deseja ver a tabuada. A saída deve ser conforme o exemplo abaixo**"
      ],
      "metadata": {
        "id": "yDRqkQ7cscWs"
      }
    },
    {
      "cell_type": "code",
      "source": [
        "def Tabuada():\n",
        "  print(a, \"x\", b,\"=\",tabuada )      \n",
        "\n",
        "\n",
        "a = int(input(\"Qual tabuada de 1 a 10 você quer que seja mostrada? \"))\n",
        "b = 0\n",
        "\n",
        "while b < 10:\n",
        "  b+=1\n",
        "  tabuada = a * b\n",
        "  Tabuada()\n",
        "\n",
        "\n",
        "  \n",
        "\n",
        "\n"
      ],
      "metadata": {
        "id": "dMb6mjH_s30g",
        "colab": {
          "base_uri": "https://localhost:8080/"
        },
        "outputId": "7464fcf5-4054-4487-b492-4562d5a4f2a1"
      },
      "execution_count": null,
      "outputs": [
        {
          "output_type": "stream",
          "name": "stdout",
          "text": [
            "Qual tabuada de 1 a 10 você quer que seja mostrada? 10\n",
            "10 x 1 = 10\n",
            "10 x 2 = 20\n",
            "10 x 3 = 30\n",
            "10 x 4 = 40\n",
            "10 x 5 = 50\n",
            "10 x 6 = 60\n",
            "10 x 7 = 70\n",
            "10 x 8 = 80\n",
            "10 x 9 = 90\n",
            "10 x 10 = 100\n"
          ]
        }
      ]
    },
    {
      "cell_type": "markdown",
      "source": [
        "# **13 Faça um programa que peça dois números, base e expoente, calcule e mostre o primeiro número elevado ao segundo número. Não utilize a função de potência da linguagem** "
      ],
      "metadata": {
        "id": "rz0ERfOHzViU"
      }
    },
    {
      "cell_type": "code",
      "source": [
        "base = int(input(\"Digite um valor para a base:\"))\n",
        "expoente = int(input(\"Digite um valor para o expoente: \"))\n",
        "\n",
        "exponenciacao = base**expoente\n",
        "\n",
        "exponenciacao\n",
        "\n"
      ],
      "metadata": {
        "id": "tRCb8emizmDW",
        "colab": {
          "base_uri": "https://localhost:8080/"
        },
        "outputId": "179ef7ae-b630-42f4-8a3d-ddff131226f5"
      },
      "execution_count": null,
      "outputs": [
        {
          "name": "stdout",
          "output_type": "stream",
          "text": [
            "Digite um valor para a base:5\n",
            "Digite um valor para o expoente: 10\n"
          ]
        },
        {
          "output_type": "execute_result",
          "data": {
            "text/plain": [
              "9765625"
            ]
          },
          "metadata": {},
          "execution_count": 90
        }
      ]
    },
    {
      "cell_type": "markdown",
      "source": [
        "# **14 Faça um programa que peça 10 números inteiros, calcule e mostre a quantidade de números pares e a quantidade de números impares**"
      ],
      "metadata": {
        "id": "acMQLX-spY0Q"
      }
    },
    {
      "cell_type": "code",
      "source": [
        "a = int(input(\" Digite um número inteiro \"))\n",
        "b = int(input(\" Digite um número inteiro \"))\n",
        "c = int(input(\" Digite um número inteiro \"))\n",
        "d = int(input(\" Digite um número inteiro \"))\n",
        "e = int(input(\" Digite um número inteiro \"))\n",
        "f = int(input(\" Digite um número inteiro \"))\n",
        "g = int(input(\" Digite um número inteiro \"))\n",
        "h = int(input(\" Digite um número inteiro \"))\n",
        "i = int(input(\" Digite um número inteiro \"))\n",
        "j = int(input(\" Digite um número inteiro \"))\n",
        "\n",
        "def linha():\n",
        "  linha = \"_____\"*30\n",
        "  print(linha)\n",
        "\n",
        "\n",
        "linha()\n",
        "\n",
        "if a%2 == 0:\n",
        "  print(\" O número é par \")\n",
        "\n",
        "else:\n",
        "  print(\"O número é impar\")\n",
        "\n",
        "linha()\n",
        "\n",
        "\n",
        "if b%2 == 0:\n",
        "  print(\" O número é par \")\n",
        "\n",
        "else:\n",
        "  print(\"O número é impar\")\n",
        "\n",
        "linha()\n",
        "\n",
        "if c%2 == 0:\n",
        "  print(\" O número é par \")\n",
        "\n",
        "else:\n",
        "  print(\"O número é impar\")\n",
        "\n",
        "linha()\n",
        "\n",
        "if d%2 == 0:\n",
        "  print(\" O número é par \")\n",
        "\n",
        "else:\n",
        "  print(\"O número é impar\")\n",
        "\n",
        "linha()\n",
        "\n",
        "if e%2 == 0:\n",
        "  print(\" O número é par \")\n",
        "\n",
        "else:\n",
        "  print(\"O número é impar\")\n",
        "\n",
        "linha()\n",
        "\n",
        "if f%2 == 0:\n",
        "  print(\" O número é par \")\n",
        "\n",
        "else:\n",
        "  print(\"O número é impar\")\n",
        "\n",
        "linha()\n",
        "\n",
        "if g%2 == 0:\n",
        "  print(\" O número é par \")\n",
        "\n",
        "else:\n",
        "  print(\"O número é impar\")\n",
        "\n",
        "linha()\n",
        "\n",
        "if h%2 == 0:\n",
        "  print(\" O número é par \")\n",
        "\n",
        "else:\n",
        "  print(\"O número é impar\") \n",
        "\n",
        "linha()\n",
        "\n",
        "if i%2 == 0:\n",
        "  print(\" O número é par \")\n",
        "\n",
        "else:\n",
        "  print(\"O número é impar\")\n",
        "\n",
        "linha()\n",
        "\n",
        "if j%2 == 0:\n",
        "  print(\" O número é par \")\n",
        "\n",
        "else:\n",
        "  print(\"O número é impar\")\n",
        "\n",
        "linha() "
      ],
      "metadata": {
        "id": "gqQD6qJDpf-m"
      },
      "execution_count": null,
      "outputs": []
    },
    {
      "cell_type": "markdown",
      "source": [
        "# **15 A série de Fibonacci é formada pela seqüência 1,1,2,3,5,8,13,21,34,55,... Faça um programa capaz de gerar a série até o n−ésimo termo**"
      ],
      "metadata": {
        "id": "uL7MapfIx3JW"
      }
    },
    {
      "cell_type": "code",
      "source": [
        "n = int(input(\" Quantos termos você quer? \"))\n",
        "t1 = 0\n",
        "t2 = 1\n",
        "\n",
        "print('{} -> {}'.format(t1,t2), end = '')\n",
        "cont = 3\n",
        "\n",
        "while cont <= n:\n",
        "  t3 = t1 + t2\n",
        "  print(\" ->  {}\".format(t3), end = '')\n",
        "  t1 = t2\n",
        "  t2 = t3\n",
        "  cont += 1\n",
        "  \n",
        "\n",
        "\n"
      ],
      "metadata": {
        "id": "57slQdjMx9a-",
        "colab": {
          "base_uri": "https://localhost:8080/"
        },
        "outputId": "ba5b3b77-1d43-466d-9e77-9daf45865b4b"
      },
      "execution_count": null,
      "outputs": [
        {
          "output_type": "stream",
          "name": "stdout",
          "text": [
            " Quantos termos você quer? 10\n",
            "0 -> 1 ->  1 ->  2 ->  3 ->  5 ->  8 ->  13 ->  21 ->  34"
          ]
        }
      ]
    },
    {
      "cell_type": "markdown",
      "source": [
        "`17 Faça um programa que calcule o fatorial de um número inteiro fornecido pelo usuário, e que possa calcular várias vezes números inteiros positivos e menores que 16 `"
      ],
      "metadata": {
        "id": "7OGafRsNG43S"
      }
    },
    {
      "cell_type": "code",
      "source": [
        "# Segunda parte do problema sem solução 8(\n",
        "\n",
        "import math as mt\n",
        "import pandas as pd\n",
        "import numpy as np\n",
        "\n",
        "\n",
        "n = int(input(\"Digite um valor inteiro positivo que seja menor que 16: \"))\n",
        "\n",
        "\n",
        "while n < 0 or n >= 16:\n",
        "  if n > 0 or n >= 16:\n",
        "    n = int(input(\"Digite um valor válido\"))\n",
        "  mt.factorial(n)\n",
        "print('-> {}'.format(mt.factorial(n)), end = '')\n",
        "  \n",
        "\n",
        "\n",
        "      \n",
        "\n",
        "  \n",
        "\n",
        "\n",
        "\n",
        "  \n",
        "\n",
        "\n",
        "\n",
        "\n",
        "\n",
        "\n"
      ],
      "metadata": {
        "id": "ZSNpBMzwHHay"
      },
      "execution_count": null,
      "outputs": []
    },
    {
      "cell_type": "markdown",
      "source": [
        "`18 Faça um programa que, dado um conjunto de N números, determine o menor valor, o maior valor e a soma dos valores. Para números entre 0 e 1000 `"
      ],
      "metadata": {
        "id": "u_D6MNvNIDBt"
      }
    },
    {
      "cell_type": "code",
      "source": [
        "a = float(input(\"Digite o valor que você quer:  \"))\n",
        "b = float(input(\"Digite o valor que voçê quer:  \"))\n",
        "c = float(input(\"Digite o valor que voçê quer:  \"))\n",
        "\n",
        "while a < 0 or a > 1000:\n",
        "  a = float(input(\"Digite um valor válido para a \"))\n",
        "\n",
        "while b < 0 or b > 1000:\n",
        "  b = float(input(\"Digite um valor válido para b \"))\n",
        "\n",
        "while c < 0 or c > 1000:\n",
        "  c = float(input(\"Digite um valor válido para c \")) \n",
        "  \n",
        "\n",
        "lista = [a,b,c]\n",
        "\n",
        "maximo = max(lista)\n",
        "minimo = min(lista)\n",
        "soma = sum(lista)\n",
        "\n",
        "print(\"O valor máximo dos n dados é --> {}\".format(maximo))\n",
        "print(\"O valor minimo dos n dados é --> {}\".format(minimo))\n",
        "print(\"A soma dos n valores é --> {}\".format(soma))\n",
        "\n",
        "\n",
        "\n",
        "\n",
        "\n"
      ],
      "metadata": {
        "id": "9R22Qs3LIlmz"
      },
      "execution_count": null,
      "outputs": []
    },
    {
      "cell_type": "markdown",
      "source": [
        "`19. Faça um programa que peça um número inteiro e determine se ele é ou não um número primo. Um número primo é aquele que é divisível somente por ele mesmo e por 1. `"
      ],
      "metadata": {
        "id": "UX_vWLy6Q1LY"
      }
    },
    {
      "cell_type": "code",
      "source": [
        "n = int(input(\" Digite um número inteiro \"))\n",
        "tot = 0 \n",
        "\n",
        "for c in range(1, n+1):\n",
        "  if n % c == 0:\n",
        "    print('\\033[33m', end = '')\n",
        "    tot +=1\n",
        "\n",
        "  else:\n",
        "   print('\\033[31m', end = '')\n",
        "\n",
        "  print('{}'.format(c), end = \"\")\n",
        "\n",
        "print(\"\\n\\033[m O número {} foi divisivel {} vezes \".format(n,tot))\n",
        "\n",
        "\n",
        "if tot == 2:\n",
        "  print(\"É primo\")\n",
        "\n",
        "else:\n",
        "  print(\"Não é primo\")\n",
        "\n",
        "  \n",
        "  "
      ],
      "metadata": {
        "colab": {
          "base_uri": "https://localhost:8080/"
        },
        "id": "uAW_TR8BWpn_",
        "outputId": "1a6e6ff7-2002-4b7a-bec4-f2a58d40d700"
      },
      "execution_count": null,
      "outputs": [
        {
          "output_type": "stream",
          "name": "stdout",
          "text": [
            " Digite um número inteiro 10\n",
            "\u001b[33m1\u001b[33m2\u001b[31m3\u001b[31m4\u001b[33m5\u001b[31m6\u001b[31m7\u001b[31m8\u001b[31m9\u001b[33m10\n",
            "\u001b[m O número 10 foi divisivel 4 vezes \n",
            "Não é primo\n"
          ]
        }
      ]
    },
    {
      "cell_type": "markdown",
      "source": [
        "`20.Faça um programa que calcule o mostre a média aritmética de N notas`"
      ],
      "metadata": {
        "id": "jef-mISODGPH"
      }
    },
    {
      "cell_type": "code",
      "source": [
        "n = int(input(\"quantos valores você quer? \"))\n",
        "count = 0\n",
        "while n <= count:\n",
        "\n",
        "  \n",
        "  \n",
        "  \n",
        "\n",
        "\n",
        "\n"
      ],
      "metadata": {
        "colab": {
          "base_uri": "https://localhost:8080/",
          "height": 433
        },
        "id": "_IPHs-SbEbAl",
        "outputId": "411c0457-4512-4fe2-8294-65b74c9f9905"
      },
      "execution_count": null,
      "outputs": [
        {
          "name": "stdout",
          "output_type": "stream",
          "text": [
            "quantos valores você quer ?10\n",
            "Digite o valor desejado4\n",
            "Digite o valor desejado2\n"
          ]
        },
        {
          "output_type": "error",
          "ename": "KeyboardInterrupt",
          "evalue": "ignored",
          "traceback": [
            "\u001b[0;31m---------------------------------------------------------------------------\u001b[0m",
            "\u001b[0;31mKeyboardInterrupt\u001b[0m                         Traceback (most recent call last)",
            "\u001b[0;32m<ipython-input-50-53f1bfceab99>\u001b[0m in \u001b[0;36m<module>\u001b[0;34m\u001b[0m\n\u001b[1;32m      2\u001b[0m \u001b[0;34m\u001b[0m\u001b[0m\n\u001b[1;32m      3\u001b[0m \u001b[0;32mfor\u001b[0m \u001b[0mc\u001b[0m \u001b[0;32min\u001b[0m \u001b[0mrange\u001b[0m\u001b[0;34m(\u001b[0m\u001b[0;36m1\u001b[0m\u001b[0;34m,\u001b[0m \u001b[0mn\u001b[0m\u001b[0;34m+\u001b[0m\u001b[0;36m1\u001b[0m\u001b[0;34m)\u001b[0m\u001b[0;34m:\u001b[0m\u001b[0;34m\u001b[0m\u001b[0;34m\u001b[0m\u001b[0m\n\u001b[0;32m----> 4\u001b[0;31m   \u001b[0mvalores\u001b[0m \u001b[0;34m=\u001b[0m \u001b[0mint\u001b[0m\u001b[0;34m(\u001b[0m\u001b[0minput\u001b[0m\u001b[0;34m(\u001b[0m\u001b[0;34m\"Digite o valor desejado\"\u001b[0m\u001b[0;34m)\u001b[0m\u001b[0;34m)\u001b[0m\u001b[0;34m\u001b[0m\u001b[0;34m\u001b[0m\u001b[0m\n\u001b[0m\u001b[1;32m      5\u001b[0m \u001b[0;34m\u001b[0m\u001b[0m\n\u001b[1;32m      6\u001b[0m \u001b[0;34m\u001b[0m\u001b[0m\n",
            "\u001b[0;32m/usr/local/lib/python3.8/dist-packages/ipykernel/kernelbase.py\u001b[0m in \u001b[0;36mraw_input\u001b[0;34m(self, prompt)\u001b[0m\n\u001b[1;32m    858\u001b[0m                 \u001b[0;34m\"raw_input was called, but this frontend does not support input requests.\"\u001b[0m\u001b[0;34m\u001b[0m\u001b[0;34m\u001b[0m\u001b[0m\n\u001b[1;32m    859\u001b[0m             )\n\u001b[0;32m--> 860\u001b[0;31m         return self._input_request(str(prompt),\n\u001b[0m\u001b[1;32m    861\u001b[0m             \u001b[0mself\u001b[0m\u001b[0;34m.\u001b[0m\u001b[0m_parent_ident\u001b[0m\u001b[0;34m,\u001b[0m\u001b[0;34m\u001b[0m\u001b[0;34m\u001b[0m\u001b[0m\n\u001b[1;32m    862\u001b[0m             \u001b[0mself\u001b[0m\u001b[0;34m.\u001b[0m\u001b[0m_parent_header\u001b[0m\u001b[0;34m,\u001b[0m\u001b[0;34m\u001b[0m\u001b[0;34m\u001b[0m\u001b[0m\n",
            "\u001b[0;32m/usr/local/lib/python3.8/dist-packages/ipykernel/kernelbase.py\u001b[0m in \u001b[0;36m_input_request\u001b[0;34m(self, prompt, ident, parent, password)\u001b[0m\n\u001b[1;32m    902\u001b[0m             \u001b[0;32mexcept\u001b[0m \u001b[0mKeyboardInterrupt\u001b[0m\u001b[0;34m:\u001b[0m\u001b[0;34m\u001b[0m\u001b[0;34m\u001b[0m\u001b[0m\n\u001b[1;32m    903\u001b[0m                 \u001b[0;31m# re-raise KeyboardInterrupt, to truncate traceback\u001b[0m\u001b[0;34m\u001b[0m\u001b[0;34m\u001b[0m\u001b[0;34m\u001b[0m\u001b[0m\n\u001b[0;32m--> 904\u001b[0;31m                 \u001b[0;32mraise\u001b[0m \u001b[0mKeyboardInterrupt\u001b[0m\u001b[0;34m(\u001b[0m\u001b[0;34m\"Interrupted by user\"\u001b[0m\u001b[0;34m)\u001b[0m \u001b[0;32mfrom\u001b[0m \u001b[0;32mNone\u001b[0m\u001b[0;34m\u001b[0m\u001b[0;34m\u001b[0m\u001b[0m\n\u001b[0m\u001b[1;32m    905\u001b[0m             \u001b[0;32mexcept\u001b[0m \u001b[0mException\u001b[0m \u001b[0;32mas\u001b[0m \u001b[0me\u001b[0m\u001b[0;34m:\u001b[0m\u001b[0;34m\u001b[0m\u001b[0;34m\u001b[0m\u001b[0m\n\u001b[1;32m    906\u001b[0m                 \u001b[0mself\u001b[0m\u001b[0;34m.\u001b[0m\u001b[0mlog\u001b[0m\u001b[0;34m.\u001b[0m\u001b[0mwarning\u001b[0m\u001b[0;34m(\u001b[0m\u001b[0;34m\"Invalid Message:\"\u001b[0m\u001b[0;34m,\u001b[0m \u001b[0mexc_info\u001b[0m\u001b[0;34m=\u001b[0m\u001b[0;32mTrue\u001b[0m\u001b[0;34m)\u001b[0m\u001b[0;34m\u001b[0m\u001b[0;34m\u001b[0m\u001b[0m\n",
            "\u001b[0;31mKeyboardInterrupt\u001b[0m: Interrupted by user"
          ]
        }
      ]
    }
  ]
}